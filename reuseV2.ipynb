{
 "cells": [
  {
   "cell_type": "code",
   "execution_count": 8,
   "metadata": {},
   "outputs": [
    {
     "name": "stdout",
     "output_type": "stream",
     "text": [
      "   Region    City              Location Software Load Shelf/Slot Card Type  \\\n",
      "88  ADANA  MERSİN  033_BAHCELIEVLER_B01   18.30.33.11        1/1        EC   \n",
      "8   ADANA  MERSİN  033_BAHCELIEVLER_B01   18.30.33.11        1/1        EC   \n",
      "67  ADANA  MERSİN  033_BAHCELIEVLER_B01   18.30.33.11       1/10    11QPA4   \n",
      "95  ADANA  MERSİN  033_BAHCELIEVLER_B04   18.30.33.14     1/10      11QPA4   \n",
      "81  ADANA  MERSİN  033_BAHCELIEVLER_B01   18.30.33.11       1/11   11STAR1   \n",
      "\n",
      "   Mnemonic  Unit Part Number     I     J    K       Date Çalışma Süresi (Gün)  \n",
      "88       EC  8DG60349AAAC03     NaN   NaN  NaN 2010-08-23                 4229  \n",
      "8        EC    8DG59241ABAA02  90.0  42.0  2.0 2022-03-22                  877  \n",
      "67   11QPA4    8DG60349AAAC03  90.0  46.0  2.0 2022-03-22                  877  \n",
      "95   11QPA4  8DG60349AAAC03     NaN   NaN  NaN 2017-05-04                 2660  \n",
      "81  11STAR1    8DG59249AAAB01  90.0  54.0  0.0 2018-03-06                 1477  \n"
     ]
    }
   ],
   "source": [
    "import pandas as pd\n",
    "from datetime import datetime\n",
    "\n",
    "# Excel dosyasını yükleme\n",
    "df = pd.read_excel('Bahcelievler DWDM re-use.xlsx')\n",
    "\n",
    "# Tarih sütununu datetime formatına çevirme\n",
    "df['Date'] = pd.to_datetime(df['Date'], dayfirst=True)\n",
    "\n",
    "# Port numaralarına göre verileri sıralama (Shelf/Slot sütununa göre)\n",
    "df = df.sort_values(by=['Shelf/Slot', 'Date'])\n",
    "\n",
    "# Çalışma süresi sütununu baştan tanımlama\n",
    "df['Çalışma Süresi (Gün)'] = None\n",
    "\n",
    "# Shelf/Slot değerine göre gruplama ve hesaplama\n",
    "for name, group in df.groupby('Shelf/Slot'):\n",
    "    # Gruplama sonrası tarih sırasına göre sıralanmış grup\n",
    "    group = group.sort_values(by='Date')\n",
    "    \n",
    "    if len(group) > 1:\n",
    "        # İki veya daha fazla satır varsa, eski tarihli olan satıra çalışma süresi yazılır\n",
    "        for i in range(len(group) - 1):\n",
    "            current_row_idx = group.index[i]\n",
    "            next_row_idx = group.index[i + 1]\n",
    "            df.at[current_row_idx, 'Çalışma Süresi (Gün)'] = (df.at[next_row_idx, 'Date'] - df.at[current_row_idx, 'Date']).days\n",
    "        # Son tarihli olan satır bugüne kadar olan çalışma süresi ile güncellenir\n",
    "        df.at[next_row_idx, 'Çalışma Süresi (Gün)'] = (datetime.now() - df.at[next_row_idx, 'Date']).days\n",
    "    else:\n",
    "        # Sadece bir satır varsa, günümüz tarihine göre çalışma süresi hesaplanır\n",
    "        df.at[group.index[0], 'Çalışma Süresi (Gün)'] = (datetime.now() - group['Date'].iloc[0]).days\n",
    "\n",
    "# Sonuçları yeni bir Excel dosyasına kaydetme\n",
    "df.to_excel('DWDM_analiz.xlsx', index=False)\n",
    "\n",
    "# Tablonun ilk birkaç satırını görüntüleme\n",
    "print(df.head())\n"
   ]
  }
 ],
 "metadata": {
  "kernelspec": {
   "display_name": "Python 3",
   "language": "python",
   "name": "python3"
  },
  "language_info": {
   "codemirror_mode": {
    "name": "ipython",
    "version": 3
   },
   "file_extension": ".py",
   "mimetype": "text/x-python",
   "name": "python",
   "nbconvert_exporter": "python",
   "pygments_lexer": "ipython3",
   "version": "3.12.4"
  }
 },
 "nbformat": 4,
 "nbformat_minor": 2
}
