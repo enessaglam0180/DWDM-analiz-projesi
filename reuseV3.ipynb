{
 "cells": [
  {
   "cell_type": "code",
   "execution_count": 1,
   "metadata": {},
   "outputs": [
    {
     "name": "stdout",
     "output_type": "stream",
     "text": [
      "   Region    City              Location Software Load Shelf/Slot Card Type  \\\n",
      "88  ADANA  MERSİN  033_BAHCELIEVLER_B01   18.30.33.11        1/1        EC   \n",
      "8   ADANA  MERSİN  033_BAHCELIEVLER_B01   18.30.33.11        1/1        EC   \n",
      "67  ADANA  MERSİN  033_BAHCELIEVLER_B01   18.30.33.11       1/10    11QPA4   \n",
      "95  ADANA  MERSİN  033_BAHCELIEVLER_B04   18.30.33.14     1/10      11QPA4   \n",
      "81  ADANA  MERSİN  033_BAHCELIEVLER_B01   18.30.33.11       1/11   11STAR1   \n",
      "\n",
      "   Mnemonic  Unit Part Number     I     J    K       Date Çalışma Süresi (Gün)  \n",
      "88       EC  8DG60349AAAC03     NaN   NaN  NaN 2010-08-23                 4229  \n",
      "8        EC    8DG59241ABAA02  90.0  42.0  2.0 2022-03-22                  877  \n",
      "67   11QPA4    8DG60349AAAC03  90.0  46.0  2.0 2022-03-22                  877  \n",
      "95   11QPA4  8DG60349AAAC03     NaN   NaN  NaN 2017-05-04                 2660  \n",
      "81  11STAR1    8DG59249AAAB01  90.0  54.0  0.0 2018-03-06                 1477  \n"
     ]
    }
   ],
   "source": [
    "import pandas as pd\n",
    "from datetime import datetime\n",
    "\n",
    "# Excel dosyasını yükleme\n",
    "df = pd.read_excel('Bahcelievler DWDM re-use.xlsx')\n",
    "\n",
    "# Tarih sütununu datetime formatına çevirme\n",
    "df['Date'] = pd.to_datetime(df['Date'], dayfirst=True)\n",
    "\n",
    "# Port numaralarına göre verileri sıralama (Shelf/Slot sütununa göre)\n",
    "df = df.sort_values(by=['Shelf/Slot', 'Date'])\n",
    "\n",
    "# Çalışma süresi sütununu baştan tanımlama\n",
    "df['Çalışma Süresi (Gün)'] = None\n",
    "\n",
    "# Shelf/Slot değerine göre gruplama ve hesaplama\n",
    "for name, group in df.groupby('Shelf/Slot'):\n",
    "    # Gruplama sonrası tarih sırasına göre sıralanmış grup\n",
    "    group = group.sort_values(by='Date')\n",
    "    \n",
    "    if len(group) > 1:\n",
    "        # İki veya daha fazla satır varsa, eski tarihli olan satıra çalışma süresi yazılır\n",
    "        for i in range(len(group) - 1):\n",
    "            current_row_idx = group.index[i]\n",
    "            next_row_idx = group.index[i + 1]\n",
    "            df.at[current_row_idx, 'Çalışma Süresi (Gün)'] = (df.at[next_row_idx, 'Date'] - df.at[current_row_idx, 'Date']).days\n",
    "        # Son tarihli olan satır bugüne kadar olan çalışma süresi ile güncellenir\n",
    "        df.at[next_row_idx, 'Çalışma Süresi (Gün)'] = (datetime.now() - df.at[next_row_idx, 'Date']).days\n",
    "    else:\n",
    "        # Sadece bir satır varsa, günümüz tarihine göre çalışma süresi hesaplanır\n",
    "        df.at[group.index[0], 'Çalışma Süresi (Gün)'] = (datetime.now() - group['Date'].iloc[0]).days\n",
    "\n",
    "# Sonuçları yeni bir Excel dosyasına kaydetme\n",
    "df.to_excel('DWDM_analiz.xlsx', index=False)\n",
    "\n",
    "# Tablonun ilk birkaç satırını görüntüleme\n",
    "print(df.head())\n"
   ]
  },
  {
   "cell_type": "code",
   "execution_count": 9,
   "metadata": {},
   "outputs": [
    {
     "ename": "ValueError",
     "evalue": "Mime type rendering requires nbformat>=4.2.0 but it is not installed",
     "output_type": "error",
     "traceback": [
      "\u001b[1;31m---------------------------------------------------------------------------\u001b[0m",
      "\u001b[1;31mValueError\u001b[0m                                Traceback (most recent call last)",
      "Cell \u001b[1;32mIn[9], line 33\u001b[0m\n\u001b[0;32m     24\u001b[0m fig\u001b[38;5;241m.\u001b[39mupdate_layout(\n\u001b[0;32m     25\u001b[0m     xaxis_title\u001b[38;5;241m=\u001b[39m\u001b[38;5;124m'\u001b[39m\u001b[38;5;124mTarih\u001b[39m\u001b[38;5;124m'\u001b[39m,\n\u001b[0;32m     26\u001b[0m     yaxis_title\u001b[38;5;241m=\u001b[39m\u001b[38;5;124m'\u001b[39m\u001b[38;5;124mShelf/Slot Numara\u001b[39m\u001b[38;5;124m'\u001b[39m,\n\u001b[1;32m   (...)\u001b[0m\n\u001b[0;32m     29\u001b[0m     )\n\u001b[0;32m     30\u001b[0m )\n\u001b[0;32m     32\u001b[0m \u001b[38;5;66;03m# Gösterim\u001b[39;00m\n\u001b[1;32m---> 33\u001b[0m \u001b[43mfig\u001b[49m\u001b[38;5;241;43m.\u001b[39;49m\u001b[43mshow\u001b[49m\u001b[43m(\u001b[49m\u001b[43m)\u001b[49m\n",
      "File \u001b[1;32mc:\\Users\\Enes\\AppData\\Local\\Programs\\Python\\Python312\\Lib\\site-packages\\plotly\\basedatatypes.py:3410\u001b[0m, in \u001b[0;36mBaseFigure.show\u001b[1;34m(self, *args, **kwargs)\u001b[0m\n\u001b[0;32m   3377\u001b[0m \u001b[38;5;250m\u001b[39m\u001b[38;5;124;03m\"\"\"\u001b[39;00m\n\u001b[0;32m   3378\u001b[0m \u001b[38;5;124;03mShow a figure using either the default renderer(s) or the renderer(s)\u001b[39;00m\n\u001b[0;32m   3379\u001b[0m \u001b[38;5;124;03mspecified by the renderer argument\u001b[39;00m\n\u001b[1;32m   (...)\u001b[0m\n\u001b[0;32m   3406\u001b[0m \u001b[38;5;124;03mNone\u001b[39;00m\n\u001b[0;32m   3407\u001b[0m \u001b[38;5;124;03m\"\"\"\u001b[39;00m\n\u001b[0;32m   3408\u001b[0m \u001b[38;5;28;01mimport\u001b[39;00m \u001b[38;5;21;01mplotly\u001b[39;00m\u001b[38;5;21;01m.\u001b[39;00m\u001b[38;5;21;01mio\u001b[39;00m \u001b[38;5;28;01mas\u001b[39;00m \u001b[38;5;21;01mpio\u001b[39;00m\n\u001b[1;32m-> 3410\u001b[0m \u001b[38;5;28;01mreturn\u001b[39;00m \u001b[43mpio\u001b[49m\u001b[38;5;241;43m.\u001b[39;49m\u001b[43mshow\u001b[49m\u001b[43m(\u001b[49m\u001b[38;5;28;43mself\u001b[39;49m\u001b[43m,\u001b[49m\u001b[43m \u001b[49m\u001b[38;5;241;43m*\u001b[39;49m\u001b[43margs\u001b[49m\u001b[43m,\u001b[49m\u001b[43m \u001b[49m\u001b[38;5;241;43m*\u001b[39;49m\u001b[38;5;241;43m*\u001b[39;49m\u001b[43mkwargs\u001b[49m\u001b[43m)\u001b[49m\n",
      "File \u001b[1;32mc:\\Users\\Enes\\AppData\\Local\\Programs\\Python\\Python312\\Lib\\site-packages\\plotly\\io\\_renderers.py:394\u001b[0m, in \u001b[0;36mshow\u001b[1;34m(fig, renderer, validate, **kwargs)\u001b[0m\n\u001b[0;32m    389\u001b[0m         \u001b[38;5;28;01mraise\u001b[39;00m \u001b[38;5;167;01mValueError\u001b[39;00m(\n\u001b[0;32m    390\u001b[0m             \u001b[38;5;124m\"\u001b[39m\u001b[38;5;124mMime type rendering requires ipython but it is not installed\u001b[39m\u001b[38;5;124m\"\u001b[39m\n\u001b[0;32m    391\u001b[0m         )\n\u001b[0;32m    393\u001b[0m     \u001b[38;5;28;01mif\u001b[39;00m \u001b[38;5;129;01mnot\u001b[39;00m nbformat \u001b[38;5;129;01mor\u001b[39;00m Version(nbformat\u001b[38;5;241m.\u001b[39m__version__) \u001b[38;5;241m<\u001b[39m Version(\u001b[38;5;124m\"\u001b[39m\u001b[38;5;124m4.2.0\u001b[39m\u001b[38;5;124m\"\u001b[39m):\n\u001b[1;32m--> 394\u001b[0m         \u001b[38;5;28;01mraise\u001b[39;00m \u001b[38;5;167;01mValueError\u001b[39;00m(\n\u001b[0;32m    395\u001b[0m             \u001b[38;5;124m\"\u001b[39m\u001b[38;5;124mMime type rendering requires nbformat>=4.2.0 but it is not installed\u001b[39m\u001b[38;5;124m\"\u001b[39m\n\u001b[0;32m    396\u001b[0m         )\n\u001b[0;32m    398\u001b[0m     ipython_display\u001b[38;5;241m.\u001b[39mdisplay(bundle, raw\u001b[38;5;241m=\u001b[39m\u001b[38;5;28;01mTrue\u001b[39;00m)\n\u001b[0;32m    400\u001b[0m \u001b[38;5;66;03m# external renderers\u001b[39;00m\n",
      "\u001b[1;31mValueError\u001b[0m: Mime type rendering requires nbformat>=4.2.0 but it is not installed"
     ]
    }
   ],
   "source": [
    "import pandas as pd\n",
    "import plotly.express as px\n",
    "\n",
    "# DWDM_analiz.xlsx dosyasını yükleme\n",
    "df = pd.read_excel('DWDM_analiz1.xlsx')\n",
    "\n",
    "# Veriyi tarih ve Shelf/Slot numarası ile sıralama\n",
    "df_sorted = df.sort_values(by=['Date', 'Shelf/Slot'])\n",
    "\n",
    "# Grafik oluşturma\n",
    "fig = px.scatter(\n",
    "    df_sorted,\n",
    "    x='Date',\n",
    "    y='Shelf/Slot',\n",
    "    size='Çalışma Süresi (Gün)',\n",
    "    color='Shelf/Slot',\n",
    "    hover_name='Shelf/Slot',\n",
    "    hover_data={'Date': True, 'Çalışma Süresi (Gün)': True},\n",
    "    labels={'Date': 'Tarih', 'Shelf/Slot': 'Shelf/Slot Numara', 'Çalışma Süresi (Gün)': 'Çalışma Süresi (Gün)'},\n",
    "    title='Çalışma Sürelerinin Zaman İçindeki Dağılımı'\n",
    ")\n",
    "\n",
    "# Grafik başlığı ve eksen etiketlerini ekleme\n",
    "fig.update_layout(\n",
    "    xaxis_title='Tarih',\n",
    "    yaxis_title='Shelf/Slot Numara',\n",
    "    xaxis=dict(\n",
    "        tickformat='%Y-%m-%d'\n",
    "    )\n",
    ")\n",
    "\n",
    "# Gösterim\n",
    "fig.show()\n"
   ]
  }
 ],
 "metadata": {
  "kernelspec": {
   "display_name": "Python 3",
   "language": "python",
   "name": "python3"
  },
  "language_info": {
   "codemirror_mode": {
    "name": "ipython",
    "version": 3
   },
   "file_extension": ".py",
   "mimetype": "text/x-python",
   "name": "python",
   "nbconvert_exporter": "python",
   "pygments_lexer": "ipython3",
   "version": "3.12.4"
  }
 },
 "nbformat": 4,
 "nbformat_minor": 2
}
