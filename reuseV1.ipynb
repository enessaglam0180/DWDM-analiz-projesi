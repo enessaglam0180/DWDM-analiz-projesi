{
 "cells": [
  {
   "cell_type": "code",
   "execution_count": 20,
   "metadata": {},
   "outputs": [
    {
     "name": "stdout",
     "output_type": "stream",
     "text": [
      "        A       B                     C            D  Item        F  \\\n",
      "8   ADANA  MERSİN  033_BAHCELIEVLER_B01  18.30.33.11   1/1       EC   \n",
      "67  ADANA  MERSİN  033_BAHCELIEVLER_B01  18.30.33.11  1/10   11QPA4   \n",
      "81  ADANA  MERSİN  033_BAHCELIEVLER_B01  18.30.33.11  1/11  11STAR1   \n",
      "71  ADANA  MERSİN  033_BAHCELIEVLER_B01  18.30.33.11  1/11   11QPA4   \n",
      "49  ADANA  MERSİN  033_BAHCELIEVLER_B01  18.30.33.11  1/12  11STAR1   \n",
      "..    ...     ...                   ...          ...   ...      ...   \n",
      "59  ADANA  MERSİN  033_BAHCELIEVLER_B01  18.30.33.11   4/3    AHPLG   \n",
      "4   ADANA  MERSİN  033_BAHCELIEVLER_B01  18.30.33.11  4/34  S2AD200   \n",
      "22  ADANA  MERSİN  033_BAHCELIEVLER_B01  18.30.33.11  4/36       PF   \n",
      "27  ADANA  MERSİN  033_BAHCELIEVLER_B01  18.30.33.11  4/37      FAN   \n",
      "62  ADANA  MERSİN  033_BAHCELIEVLER_B01  18.30.33.11   4/6     CWR8   \n",
      "\n",
      "                 G               H   I   J  K                Date  \\\n",
      "8               EC  8DG59241ABAA02  90  42  2 2022-03-22 11:23:00   \n",
      "67          11QPA4  8DG60349AAAC03  90  46  2 2022-03-22 11:23:00   \n",
      "81  8DG59249AAAB01     EZ110820081  90  54  0 2018-03-06 06:07:00   \n",
      "71          11QPA4  8DG60349AAAC03  90  48  3 2022-03-22 11:23:00   \n",
      "49         11STAR1  8DG59249AAAC03  90  57  2 2022-03-22 11:23:00   \n",
      "..             ...             ...  ..  .. ..                 ...   \n",
      "59           AHPLG  8DG59945AAAA01  90  23  1 2023-02-09 16:14:00   \n",
      "4         S2AD200H  3KC69993AABA02  90  40  1 2023-02-09 16:14:00   \n",
      "22          PFDC50  8DG59242ABAA05  90  40  1 2022-03-22 11:23:00   \n",
      "27          FAN32H  8DG59243ABAA01  90  40  1 2022-03-22 11:23:00   \n",
      "62           CWR8B  8DG60117AAAA02  90  31  1 2023-02-09 16:14:00   \n",
      "\n",
      "    Çalışma Süresi (Gün)  \n",
      "8                    0.0  \n",
      "67                   0.0  \n",
      "81                   0.0  \n",
      "71                1477.0  \n",
      "49                   0.0  \n",
      "..                   ...  \n",
      "59                   0.0  \n",
      "4                    0.0  \n",
      "22                   0.0  \n",
      "27                   0.0  \n",
      "62                   0.0  \n",
      "\n",
      "[88 rows x 13 columns]\n"
     ]
    }
   ],
   "source": [
    "import pandas as pd\n",
    "\n",
    "# Excel dosyasını yükleme\n",
    "df = pd.read_excel('re-use.xlsx')\n",
    "\n",
    "# Tarih sütununu datetime formatına çevirme\n",
    "df['Date'] = pd.to_datetime(df['Date'], dayfirst=True)\n",
    "\n",
    "# Cihaz port numarasına göre verileri sıralama \n",
    "df = df.sort_values(by=['Item', 'Date'])\n",
    "\n",
    "# Tekrar eden Cihaz port numaralarına göre tarih farkını hesaplama\n",
    "df['Çalışma Süresi (Gün)'] = df.groupby('Item')['Date'].diff().dt.days\n",
    "\n",
    "# İlk kez görülen cihazlar için NaN değerlerini 0 ile değiştirme\n",
    "df['Çalışma Süresi (Gün)'] = df['Çalışma Süresi (Gün)'].fillna(0)\n",
    "\n",
    "# Sonucu görüntüleme\n",
    "print(df) \n",
    "\n",
    "# İstersen yeni bir Excel dosyasına kaydedebilirsin\n",
    "df.to_excel('calisma_suresi_hesaplama.xlsx', index=False)\n"
   ]
  }
 ],
 "metadata": {
  "kernelspec": {
   "display_name": "Python 3",
   "language": "python",
   "name": "python3"
  },
  "language_info": {
   "codemirror_mode": {
    "name": "ipython",
    "version": 3
   },
   "file_extension": ".py",
   "mimetype": "text/x-python",
   "name": "python",
   "nbconvert_exporter": "python",
   "pygments_lexer": "ipython3",
   "version": "3.12.4"
  }
 },
 "nbformat": 4,
 "nbformat_minor": 2
}
